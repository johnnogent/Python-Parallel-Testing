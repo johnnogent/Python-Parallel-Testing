{
 "cells": [
  {
   "cell_type": "code",
   "execution_count": 1,
   "metadata": {
    "collapsed": false
   },
   "outputs": [],
   "source": [
    "import datetime\n",
    "from math import sqrt\n",
    "def racine(x):\n",
    "    for i in range(10000000):\n",
    "        x=(sqrt)(i**2)\n"
   ]
  },
  {
   "cell_type": "code",
   "execution_count": 2,
   "metadata": {
    "collapsed": false
   },
   "outputs": [
    {
     "name": "stdout",
     "output_type": "stream",
     "text": [
      "0:00:36.196087\n"
     ]
    }
   ],
   "source": [
    "#no multi-threading no multi-processing\n",
    "starttime= datetime.datetime.now()     \n",
    "for i in range(8):\n",
    "    racine(1)\n",
    "endtime = datetime.datetime.now()\n",
    "print(endtime-starttime)"
   ]
  },
  {
   "cell_type": "code",
   "execution_count": 3,
   "metadata": {
    "collapsed": false
   },
   "outputs": [
    {
     "name": "stdout",
     "output_type": "stream",
     "text": [
      "0:00:18.400516\n"
     ]
    }
   ],
   "source": [
    "# joblib\n",
    "from joblib import Parallel, delayed\n",
    "def racine(x):\n",
    "    for i in range(10000000):\n",
    "        x=(sqrt)(i**2)\n",
    "\n",
    "starttime= datetime.datetime.now()     \n",
    "test = Parallel(n_jobs=4)(delayed(racine)(1) for i in range(8))\n",
    "endtime = datetime.datetime.now()\n",
    "print(endtime-starttime)"
   ]
  },
  {
   "cell_type": "code",
   "execution_count": 4,
   "metadata": {
    "collapsed": false,
    "scrolled": true
   },
   "outputs": [
    {
     "name": "stdout",
     "output_type": "stream",
     "text": [
      "0:00:35.672617\n"
     ]
    }
   ],
   "source": [
    "#multithreading\n",
    "import threading\n",
    "starttime= datetime.datetime.now()\n",
    "out=[]\n",
    "for i in range(8):\n",
    "    obj = threading.Thread(target=racine,args=(1,))\n",
    "    out.append(obj)\n",
    "for i in range(8):\n",
    "    out[i].start()\n",
    "for i in range(8):\n",
    "    out[i].join()\n",
    "endtime = datetime.datetime.now()\n",
    "print(endtime-starttime)"
   ]
  },
  {
   "cell_type": "code",
   "execution_count": 5,
   "metadata": {
    "collapsed": false
   },
   "outputs": [
    {
     "name": "stdout",
     "output_type": "stream",
     "text": [
      "0:00:24.211613\n"
     ]
    }
   ],
   "source": [
    "#spark\n",
    "from pyspark import SparkContext\n",
    "starttime= datetime.datetime.now()\n",
    "sc = SparkContext('local[4]')\n",
    "rdd = sc.parallelize(range(8))  # create collection\n",
    "rdd.map(lambda x: racine(x)).collect()\n",
    "sc.stop()\n",
    "endtime = datetime.datetime.now()\n",
    "print(endtime-starttime)"
   ]
  },
  {
   "cell_type": "code",
   "execution_count": 6,
   "metadata": {
    "collapsed": false
   },
   "outputs": [
    {
     "name": "stdout",
     "output_type": "stream",
     "text": [
      "0:00:21.764904\n"
     ]
    }
   ],
   "source": [
    "#dask\n",
    "import dask.bag as db\n",
    "starttime= datetime.datetime.now()\n",
    "b = db.from_sequence(range(8))\n",
    "b.map(lambda x: racine(x)).compute()\n",
    "endtime = datetime.datetime.now()\n",
    "print(endtime-starttime)"
   ]
  }
 ],
 "metadata": {
  "kernelspec": {
   "display_name": "Python 3",
   "language": "python",
   "name": "python3"
  },
  "language_info": {
   "codemirror_mode": {
    "name": "ipython",
    "version": 3
   },
   "file_extension": ".py",
   "mimetype": "text/x-python",
   "name": "python",
   "nbconvert_exporter": "python",
   "pygments_lexer": "ipython3",
   "version": "3.4.5"
  }
 },
 "nbformat": 4,
 "nbformat_minor": 2
}
